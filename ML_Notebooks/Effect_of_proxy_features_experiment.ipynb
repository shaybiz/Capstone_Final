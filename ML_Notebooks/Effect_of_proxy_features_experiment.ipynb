{
 "cells": [
  {
   "cell_type": "markdown",
   "metadata": {
    "hide": true
   },
   "source": [
    "# Experiment: the effect of proxy features on the performance of a classifier"
   ]
  },
  {
   "cell_type": "markdown",
   "metadata": {},
   "source": [
    "While working on the capstone project 01 (CP01), I observed suspiciously high accuarcy and precision for both the training and test dataset. Extremely high accuarcy and precision (close to 1) could be an indication of a predictor or combination of predictor features are acting as a proxy for the target values (infant death or infant lives). There are three features in the final dataset that are only related to infants that died. These are ICD code for the cause of infant death of the infant (UC0D), cause of infant death recode (UCODR130), and manner of death. These three aforementioned features have a range of values for infants who died, but one value for all live infants. <br><br> I used a dataset that uses height and weight of an idividual to predict the gender to investigate and highlight the effect of proxy features on the apparent performance of the predictor. Additional feature was added that acts as a proxy for the target values (female or male). The additional feature has the value \"Adam\" for males and \"Eve\" for females. The performance of the classifier with the proxy features is compared to the the performance of the classifier without the proxy features. The results show, the performance of the classifier with proxy features is ~100% accuracy/precision whereas the performance of the classifier without the proxy features is ~92% accuracy/precision. "
   ]
  },
  {
   "cell_type": "code",
   "execution_count": 1,
   "metadata": {
    "collapsed": true,
    "hide": true
   },
   "outputs": [],
   "source": [
    "%matplotlib inline\n",
    "import numpy as np\n",
    "import scipy as sp\n",
    "import matplotlib as mpl\n",
    "import matplotlib.cm as cm\n",
    "from matplotlib.colors import ListedColormap\n",
    "import matplotlib.pyplot as plt\n",
    "import pandas as pd\n",
    "pd.set_option('display.width', 500)\n",
    "pd.set_option('display.max_columns', 100)\n",
    "pd.set_option('display.notebook_repr_html', True)\n",
    "import sklearn.model_selection"
   ]
  },
  {
   "cell_type": "markdown",
   "metadata": {},
   "source": [
    "Load data without additional proxy features"
   ]
  },
  {
   "cell_type": "code",
   "execution_count": 2,
   "metadata": {},
   "outputs": [
    {
     "data": {
      "text/html": [
       "<div>\n",
       "<style>\n",
       "    .dataframe thead tr:only-child th {\n",
       "        text-align: right;\n",
       "    }\n",
       "\n",
       "    .dataframe thead th {\n",
       "        text-align: left;\n",
       "    }\n",
       "\n",
       "    .dataframe tbody tr th {\n",
       "        vertical-align: top;\n",
       "    }\n",
       "</style>\n",
       "<table border=\"1\" class=\"dataframe\">\n",
       "  <thead>\n",
       "    <tr style=\"text-align: right;\">\n",
       "      <th></th>\n",
       "      <th>Gender</th>\n",
       "      <th>Height</th>\n",
       "      <th>Weight</th>\n",
       "    </tr>\n",
       "  </thead>\n",
       "  <tbody>\n",
       "    <tr>\n",
       "      <th>0</th>\n",
       "      <td>Male</td>\n",
       "      <td>73.847017</td>\n",
       "      <td>241.893563</td>\n",
       "    </tr>\n",
       "    <tr>\n",
       "      <th>1</th>\n",
       "      <td>Male</td>\n",
       "      <td>68.781904</td>\n",
       "      <td>162.310473</td>\n",
       "    </tr>\n",
       "    <tr>\n",
       "      <th>2</th>\n",
       "      <td>Male</td>\n",
       "      <td>74.110105</td>\n",
       "      <td>212.740856</td>\n",
       "    </tr>\n",
       "    <tr>\n",
       "      <th>3</th>\n",
       "      <td>Male</td>\n",
       "      <td>71.730978</td>\n",
       "      <td>220.042470</td>\n",
       "    </tr>\n",
       "    <tr>\n",
       "      <th>4</th>\n",
       "      <td>Male</td>\n",
       "      <td>69.881796</td>\n",
       "      <td>206.349801</td>\n",
       "    </tr>\n",
       "  </tbody>\n",
       "</table>\n",
       "</div>"
      ],
      "text/plain": [
       "  Gender     Height      Weight\n",
       "0   Male  73.847017  241.893563\n",
       "1   Male  68.781904  162.310473\n",
       "2   Male  74.110105  212.740856\n",
       "3   Male  71.730978  220.042470\n",
       "4   Male  69.881796  206.349801"
      ]
     },
     "execution_count": 2,
     "metadata": {},
     "output_type": "execute_result"
    }
   ],
   "source": [
    "dflog_orig = pd.read_csv(\"data/01_heights_weights_genders.csv\")\n",
    "dflog_orig.head()"
   ]
  },
  {
   "cell_type": "markdown",
   "metadata": {},
   "source": [
    "Load data with additional feature that has a value of \"Adam\" if gender is male and \"Eve\" if gender is female"
   ]
  },
  {
   "cell_type": "code",
   "execution_count": 3,
   "metadata": {},
   "outputs": [
    {
     "data": {
      "text/html": [
       "<div>\n",
       "<style>\n",
       "    .dataframe thead tr:only-child th {\n",
       "        text-align: right;\n",
       "    }\n",
       "\n",
       "    .dataframe thead th {\n",
       "        text-align: left;\n",
       "    }\n",
       "\n",
       "    .dataframe tbody tr th {\n",
       "        vertical-align: top;\n",
       "    }\n",
       "</style>\n",
       "<table border=\"1\" class=\"dataframe\">\n",
       "  <thead>\n",
       "    <tr style=\"text-align: right;\">\n",
       "      <th></th>\n",
       "      <th>Gender</th>\n",
       "      <th>Height</th>\n",
       "      <th>Weight</th>\n",
       "      <th>FirstPerson</th>\n",
       "    </tr>\n",
       "  </thead>\n",
       "  <tbody>\n",
       "    <tr>\n",
       "      <th>0</th>\n",
       "      <td>Male</td>\n",
       "      <td>73.847017</td>\n",
       "      <td>241.893563</td>\n",
       "      <td>Adam</td>\n",
       "    </tr>\n",
       "    <tr>\n",
       "      <th>1</th>\n",
       "      <td>Male</td>\n",
       "      <td>68.781904</td>\n",
       "      <td>162.310473</td>\n",
       "      <td>Adam</td>\n",
       "    </tr>\n",
       "    <tr>\n",
       "      <th>2</th>\n",
       "      <td>Male</td>\n",
       "      <td>74.110105</td>\n",
       "      <td>212.740856</td>\n",
       "      <td>Adam</td>\n",
       "    </tr>\n",
       "    <tr>\n",
       "      <th>3</th>\n",
       "      <td>Male</td>\n",
       "      <td>71.730978</td>\n",
       "      <td>220.042470</td>\n",
       "      <td>Adam</td>\n",
       "    </tr>\n",
       "    <tr>\n",
       "      <th>4</th>\n",
       "      <td>Male</td>\n",
       "      <td>69.881796</td>\n",
       "      <td>206.349801</td>\n",
       "      <td>Adam</td>\n",
       "    </tr>\n",
       "  </tbody>\n",
       "</table>\n",
       "</div>"
      ],
      "text/plain": [
       "  Gender     Height      Weight FirstPerson\n",
       "0   Male  73.847017  241.893563        Adam\n",
       "1   Male  68.781904  162.310473        Adam\n",
       "2   Male  74.110105  212.740856        Adam\n",
       "3   Male  71.730978  220.042470        Adam\n",
       "4   Male  69.881796  206.349801        Adam"
      ]
     },
     "execution_count": 3,
     "metadata": {},
     "output_type": "execute_result"
    }
   ],
   "source": [
    "dflog = pd.read_csv(\"data/new_list\")\n",
    "dflog.head()"
   ]
  },
  {
   "cell_type": "markdown",
   "metadata": {},
   "source": [
    "Plot the weight and height of both males and females to show the linear relationship between height and weight."
   ]
  },
  {
   "cell_type": "code",
   "execution_count": 4,
   "metadata": {},
   "outputs": [
    {
     "data": {
      "text/plain": [
       "<matplotlib.text.Text at 0x10de369b0>"
      ]
     },
     "execution_count": 4,
     "metadata": {},
     "output_type": "execute_result"
    },
    {
     "data": {
      "image/png": "[encoded data removed]",
      "text/plain": [
       "<matplotlib.figure.Figure at 0x1a1670f9e8>"
      ]
     },
     "metadata": {},
     "output_type": "display_data"
    }
   ],
   "source": [
    "plt.scatter(dflog.Weight, dflog.Height,s=4);\n",
    "plt.xlabel('weight')\n",
    "plt.ylabel('Height')\n",
    "plt.title('Weight Vs Height')"
   ]
  },
  {
   "cell_type": "markdown",
   "metadata": {},
   "source": [
    "Plot height/weight of males and females using different colors."
   ]
  },
  {
   "cell_type": "code",
   "execution_count": 6,
   "metadata": {},
   "outputs": [
    {
     "data": {
      "text/plain": [
       "<matplotlib.legend.Legend at 0x1a1f5f67f0>"
      ]
     },
     "execution_count": 6,
     "metadata": {},
     "output_type": "execute_result"
    },
    {
     "data": {
      "image/png": "[encoded data removed]",
      "text/plain": [
       "<matplotlib.figure.Figure at 0x1a1f62b128>"
      ]
     },
     "metadata": {},
     "output_type": "display_data"
    }
   ],
   "source": [
    "plt.scatter(dflog[dflog.Gender=='Male'].Weight, dflog[dflog.Gender=='Male'].Height,s=4,label='Male');\n",
    "plt.scatter(dflog[dflog.Gender=='Female'].Weight, dflog[dflog.Gender=='Female'].Height,s=4,label='Female');\n",
    "plt.xlabel('weight')\n",
    "plt.ylabel('Height')\n",
    "plt.title('Weight Vs Height')\n",
    "plt.legend(fontsize=16,markerscale=4)"
   ]
  },
  {
   "cell_type": "markdown",
   "metadata": {},
   "source": [
    "The added proxy feature (\"FirstPerson\") is categorical. Let's get the dummy variable for all the possible values (\"Adam\" and \"Eve\")."
   ]
  },
  {
   "cell_type": "code",
   "execution_count": 7,
   "metadata": {
    "collapsed": true
   },
   "outputs": [],
   "source": [
    "categ_att = [\"FirstPerson\"]"
   ]
  },
  {
   "cell_type": "code",
   "execution_count": 8,
   "metadata": {},
   "outputs": [
    {
     "data": {
      "text/html": [
       "<div>\n",
       "<style>\n",
       "    .dataframe thead tr:only-child th {\n",
       "        text-align: right;\n",
       "    }\n",
       "\n",
       "    .dataframe thead th {\n",
       "        text-align: left;\n",
       "    }\n",
       "\n",
       "    .dataframe tbody tr th {\n",
       "        vertical-align: top;\n",
       "    }\n",
       "</style>\n",
       "<table border=\"1\" class=\"dataframe\">\n",
       "  <thead>\n",
       "    <tr style=\"text-align: right;\">\n",
       "      <th></th>\n",
       "      <th>Gender</th>\n",
       "      <th>Height</th>\n",
       "      <th>Weight</th>\n",
       "      <th>FirstPerson_Adam</th>\n",
       "      <th>FirstPerson_Eve</th>\n",
       "    </tr>\n",
       "  </thead>\n",
       "  <tbody>\n",
       "    <tr>\n",
       "      <th>0</th>\n",
       "      <td>Male</td>\n",
       "      <td>73.847017</td>\n",
       "      <td>241.893563</td>\n",
       "      <td>1</td>\n",
       "      <td>0</td>\n",
       "    </tr>\n",
       "    <tr>\n",
       "      <th>1</th>\n",
       "      <td>Male</td>\n",
       "      <td>68.781904</td>\n",
       "      <td>162.310473</td>\n",
       "      <td>1</td>\n",
       "      <td>0</td>\n",
       "    </tr>\n",
       "    <tr>\n",
       "      <th>2</th>\n",
       "      <td>Male</td>\n",
       "      <td>74.110105</td>\n",
       "      <td>212.740856</td>\n",
       "      <td>1</td>\n",
       "      <td>0</td>\n",
       "    </tr>\n",
       "    <tr>\n",
       "      <th>3</th>\n",
       "      <td>Male</td>\n",
       "      <td>71.730978</td>\n",
       "      <td>220.042470</td>\n",
       "      <td>1</td>\n",
       "      <td>0</td>\n",
       "    </tr>\n",
       "    <tr>\n",
       "      <th>4</th>\n",
       "      <td>Male</td>\n",
       "      <td>69.881796</td>\n",
       "      <td>206.349801</td>\n",
       "      <td>1</td>\n",
       "      <td>0</td>\n",
       "    </tr>\n",
       "  </tbody>\n",
       "</table>\n",
       "</div>"
      ],
      "text/plain": [
       "  Gender     Height      Weight  FirstPerson_Adam  FirstPerson_Eve\n",
       "0   Male  73.847017  241.893563                 1                0\n",
       "1   Male  68.781904  162.310473                 1                0\n",
       "2   Male  74.110105  212.740856                 1                0\n",
       "3   Male  71.730978  220.042470                 1                0\n",
       "4   Male  69.881796  206.349801                 1                0"
      ]
     },
     "execution_count": 8,
     "metadata": {},
     "output_type": "execute_result"
    }
   ],
   "source": [
    "dflog = pd.get_dummies(dflog, prefix=categ_att, columns=categ_att)\n",
    "dflog.head()"
   ]
  },
  {
   "cell_type": "markdown",
   "metadata": {},
   "source": [
    "Let's look at the features of the dataset with additional proxy columns."
   ]
  },
  {
   "cell_type": "code",
   "execution_count": 9,
   "metadata": {},
   "outputs": [
    {
     "data": {
      "text/plain": [
       "['Gender', 'Height', 'Weight', 'FirstPerson_Adam', 'FirstPerson_Eve']"
      ]
     },
     "execution_count": 9,
     "metadata": {},
     "output_type": "execute_result"
    }
   ],
   "source": [
    "list(dflog.columns)"
   ]
  },
  {
   "cell_type": "markdown",
   "metadata": {},
   "source": [
    "Lets look at the features of the original dataset without proxy columns"
   ]
  },
  {
   "cell_type": "code",
   "execution_count": 10,
   "metadata": {},
   "outputs": [
    {
     "data": {
      "text/plain": [
       "['Gender', 'Height', 'Weight']"
      ]
     },
     "execution_count": 10,
     "metadata": {},
     "output_type": "execute_result"
    }
   ],
   "source": [
    "list(dflog_orig.columns)"
   ]
  },
  {
   "cell_type": "markdown",
   "metadata": {},
   "source": [
    "The following function takes regularization parameters, train set, test set, and nfolds and returns the best classifier. "
   ]
  },
  {
   "cell_type": "code",
   "execution_count": 12,
   "metadata": {
    "collapsed": true
   },
   "outputs": [],
   "source": [
    "from sklearn.model_selection import KFold\n",
    "from sklearn.metrics import accuracy_score\n",
    "from sklearn.linear_model import LogisticRegression\n",
    "def cv_optimize(clf, parameters, Xtrain, ytrain, n_folds=5):\n",
    "    gs = sklearn.model_selection.GridSearchCV(clf, param_grid=parameters, cv=n_folds)\n",
    "    gs.fit(Xtrain, ytrain)\n",
    "    print(\"BEST PARAMS\", gs.best_params_)\n",
    "    best = gs.best_estimator_\n",
    "    return best"
   ]
  },
  {
   "cell_type": "markdown",
   "metadata": {},
   "source": [
    "The following function splits dataset into train and test sets and uses the function defined above (cv_optimize) to use the best estimator and returns the train/test datasets, the classifier and prints the performance of the classifier."
   ]
  },
  {
   "cell_type": "code",
   "execution_count": 13,
   "metadata": {
    "collapsed": true,
    "hide": true
   },
   "outputs": [],
   "source": [
    "from sklearn.model_selection import train_test_split\n",
    "\n",
    "def do_classify(clf, parameters, indf, featurenames, targetname, target1val, standardize=False, train_size=0.8):\n",
    "    subdf=indf[featurenames]\n",
    "    if standardize:\n",
    "        subdfstd=(subdf - subdf.mean())/subdf.std()\n",
    "    else:\n",
    "        subdfstd=subdf\n",
    "    X=subdfstd.values\n",
    "    y=(indf[targetname].values==target1val)*1\n",
    "    Xtrain, Xtest, ytrain, ytest = train_test_split(X, y, train_size=train_size)\n",
    "    clf = cv_optimize(clf, parameters, Xtrain, ytrain)\n",
    "    clf=clf.fit(Xtrain, ytrain)\n",
    "    training_accuracy = clf.score(Xtrain, ytrain)\n",
    "    test_accuracy = clf.score(Xtest, ytest)\n",
    "    print(\"Accuracy on training data: {:0.2f}\".format(training_accuracy))\n",
    "    print(\"Accuracy on test data:     {:0.2f}\".format(test_accuracy))\n",
    "    return clf, Xtrain, ytrain, Xtest, ytest"
   ]
  },
  {
   "cell_type": "markdown",
   "metadata": {},
   "source": [
    "## 1. Predictor using that dataset with proxy features"
   ]
  },
  {
   "cell_type": "markdown",
   "metadata": {},
   "source": [
    "Lets get the best classifier and its performance using the function defined (do_classify) above and the dataset that consists of proxy features (FirstPerson_Adam and FirstPerson_Eve)."
   ]
  },
  {
   "cell_type": "code",
   "execution_count": 14,
   "metadata": {},
   "outputs": [
    {
     "name": "stderr",
     "output_type": "stream",
     "text": [
      "/anaconda3/lib/python3.6/site-packages/sklearn/model_selection/_split.py:2010: FutureWarning: From version 0.21, test_size will always complement train_size unless both are specified.\n",
      "  FutureWarning)\n"
     ]
    },
    {
     "name": "stdout",
     "output_type": "stream",
     "text": [
      "BEST PARAMS {'C': 1}\n",
      "Accuracy on training data: 1.00\n",
      "Accuracy on test data:     1.00\n"
     ]
    }
   ],
   "source": [
    "clf_l, Xtrain_l, ytrain_l, Xtest_l, ytest_l  = do_classify(LogisticRegression(), \n",
    "                                                           {\"C\": [0.01, 0.1, 1, 10, 100]}, \n",
    "                                                           dflog, ['Weight', 'Height','FirstPerson_Adam','FirstPerson_Eve'], 'Gender','Female')"
   ]
  },
  {
   "cell_type": "markdown",
   "metadata": {},
   "source": [
    "The results show accuracy of 1.00 for both training/test datasets."
   ]
  },
  {
   "cell_type": "code",
   "execution_count": 53,
   "metadata": {},
   "outputs": [
    {
     "name": "stdout",
     "output_type": "stream",
     "text": [
      "The coefficients for weight, height, FirstPerson_Adam, and FirstPerson_Eve are -0.099, 0.241, -5.405, and 5.404 respectively \n"
     ]
    }
   ],
   "source": [
    "print(\"The coefficients for weight, height, FirstPerson_Adam, and FirstPerson_Eve are {:.3f}, {:.3f}, {:.3f}, and {:.3f} respectively \".format\n",
    "      (clf_l.coef_[0,0], clf_l.coef_[0,1], clf_l.coef_[0,2],clf_l.coef_[0,3]))"
   ]
  },
  {
   "cell_type": "markdown",
   "metadata": {},
   "source": [
    "Lets print out the size of the training/test set predictors and training/test set target features:"
   ]
  },
  {
   "cell_type": "code",
   "execution_count": 23,
   "metadata": {},
   "outputs": [
    {
     "name": "stdout",
     "output_type": "stream",
     "text": [
      "(8000, 4) (8000,) (2000, 4) (2000,)\n"
     ]
    }
   ],
   "source": [
    "print(Xtrain_l.shape, ytrain_l.shape, Xtest_l.shape, ytest_l.shape)"
   ]
  },
  {
   "cell_type": "code",
   "execution_count": 25,
   "metadata": {
    "collapsed": true
   },
   "outputs": [],
   "source": [
    "SS_train = Xtrain_l.shape[0] \n",
    "SS_test = Xtest_l.shape[0]\n",
    "PP_train = round(np.sum(ytrain_l)/SS_train,3)\n",
    "NP_train = round(np.sum(ytrain_l == 0)/SS_train,3)\n",
    "PP_test = round(np.sum(ytest_l)/SS_test,3)\n",
    "NP_test = round(np.sum(ytest_l == 0)/SS_test,3)"
   ]
  },
  {
   "cell_type": "code",
   "execution_count": 28,
   "metadata": {},
   "outputs": [
    {
     "name": "stdout",
     "output_type": "stream",
     "text": [
      "The number of records in the training data set and test data set are 8000 and 2000 respectively.\n",
      "The proportion of positive and negative labels in the training data set are 0.498 and 0.502 respectively.\n",
      "The proportion of positive and negative labels in the test data set are 0.506 and 0.494 respectively.\n"
     ]
    }
   ],
   "source": [
    "print(\"The number of records in the training data set and test data set are {} and {} respectively.\".format(\n",
    "    SS_train,SS_test))\n",
    "print(\"The proportion of positive and negative labels in the training data set are {} and {} respectively.\".format(\n",
    "    PP_train,NP_train))\n",
    "print(\"The proportion of positive and negative labels in the test data set are {} and {} respectively.\".format(\n",
    "    PP_test,NP_test))"
   ]
  },
  {
   "cell_type": "markdown",
   "metadata": {},
   "source": [
    "The following extracts the confusion matrix of the test dataset to compute the various performance metrics."
   ]
  },
  {
   "cell_type": "code",
   "execution_count": 29,
   "metadata": {},
   "outputs": [
    {
     "name": "stdout",
     "output_type": "stream",
     "text": [
      "[[ 987    0]\n",
      " [   0 1013]]\n"
     ]
    }
   ],
   "source": [
    "from sklearn.metrics import confusion_matrix\n",
    "cm_test = confusion_matrix(ytest_l,clf_l.predict(Xtest_l))\n",
    "print(cm_test)\n",
    "cm_test = pd.DataFrame(cm_test)"
   ]
  },
  {
   "cell_type": "code",
   "execution_count": 30,
   "metadata": {
    "collapsed": true
   },
   "outputs": [],
   "source": [
    "TN_test = cm_test[0][0];TP_test = cm_test[1][1];FP_test = cm_test[0][1]; FN_test = cm_test[1][0]"
   ]
  },
  {
   "cell_type": "code",
   "execution_count": 38,
   "metadata": {},
   "outputs": [
    {
     "name": "stdout",
     "output_type": "stream",
     "text": [
      "The number of true negative, true positive, false positive, and false negative in the test dataset are 987, 1013, 0 and 0 respectively.\n"
     ]
    }
   ],
   "source": [
    "print(\"The number of true negative, true positive, false positive, and false negative in the test dataset are {}, {}, {} and {} respectively.\".format(\n",
    "    TN_test, TP_test, FP_test, FN_test))"
   ]
  },
  {
   "cell_type": "code",
   "execution_count": 39,
   "metadata": {
    "collapsed": true
   },
   "outputs": [],
   "source": [
    "TPR_test = round(TP_test/(TP_test+FN_test),3) #true positive rate (Recall)\n",
    "\n",
    "TNR_test = round(TN_test/(TN_test+FP_test),3) #true negative rate (Specifity)\n",
    "\n",
    "PPV_test = round(TP_test/(TP_test+FP_test),3) #positive predictive value (Precision)\n",
    "\n",
    "NPV_test = round(TN_test/(TN_test+FN_test),3) # Negative predictive value\n",
    "\n",
    "FPR_test = round(FP_test/(FP_test+TN_test),3) # Fall out or false positive rate\n",
    "\n",
    "FNR_test = round(FN_test/(TP_test+FN_test),3) # False negative rate\n",
    "\n",
    "FDR_test = round(FP_test/(TP_test+FP_test),3) # False discovery rate\n",
    "\n",
    "ACC_test = round((TP_test+TN_test)/(TP_test+FP_test+FN_test+TN_test),3) # Overall accuracy"
   ]
  },
  {
   "cell_type": "markdown",
   "metadata": {},
   "source": [
    "The following extracts the confusion matrix of the training dataset to compute the various performance metrics."
   ]
  },
  {
   "cell_type": "code",
   "execution_count": 40,
   "metadata": {},
   "outputs": [
    {
     "name": "stdout",
     "output_type": "stream",
     "text": [
      "[[4013    0]\n",
      " [   0 3987]]\n"
     ]
    }
   ],
   "source": [
    "from sklearn.metrics import confusion_matrix\n",
    "cm_train = confusion_matrix(ytrain_l,clf_l.predict(Xtrain_l))\n",
    "print(cm_train)\n",
    "cm_train = pd.DataFrame(cm_train)"
   ]
  },
  {
   "cell_type": "code",
   "execution_count": 41,
   "metadata": {
    "collapsed": true
   },
   "outputs": [],
   "source": [
    "TN_train = cm_train[0][0];TP_train = cm_train[1][1];FP_train = cm_train[0][1]; FN_train = cm_train[1][0]"
   ]
  },
  {
   "cell_type": "code",
   "execution_count": 42,
   "metadata": {},
   "outputs": [
    {
     "name": "stdout",
     "output_type": "stream",
     "text": [
      "The number of true negative, true positive, false positive, and false negative in the training dataset are 4013, 3987, 0 and 0 respectively.\n"
     ]
    }
   ],
   "source": [
    "print(\"The number of true negative, true positive, false positive, and false negative in the training dataset are {}, {}, {} and {} respectively.\".format(\n",
    "    TN_train, TP_train, FP_train, FN_train))"
   ]
  },
  {
   "cell_type": "code",
   "execution_count": 43,
   "metadata": {
    "collapsed": true
   },
   "outputs": [],
   "source": [
    "TPR_train = round(TP_train/(TP_train+FN_train),3) #true positive rate (Recall)\n",
    "\n",
    "TNR_train = round(TN_train/(TN_train+FP_train),3) #true negative rate (Specifity)\n",
    "\n",
    "PPV_train = round(TP_train/(TP_train+FP_train),3) #positive predictive value (Precision)\n",
    "\n",
    "NPV_train = round(TN_train/(TN_train+FN_train),3) # Negative predictive value\n",
    "\n",
    "FPR_train = round(FP_train/(FP_train+TN_train),3) # Fall out or false positive rate\n",
    "\n",
    "FNR_train = round(FN_train/(TP_train+FN_train),3) # False negative rate\n",
    "\n",
    "FDR_train = round(FP_train/(TP_train+FP_train),3) # False discovery rate\n",
    "\n",
    "ACC_train = round((TP_train+TN_train)/(TP_train+FP_train+FN_train+TN_train),3) # Overall accuracy"
   ]
  },
  {
   "cell_type": "markdown",
   "metadata": {},
   "source": [
    "#### Performance Table"
   ]
  },
  {
   "cell_type": "code",
   "execution_count": 44,
   "metadata": {
    "collapsed": true
   },
   "outputs": [],
   "source": [
    "performance_data = np.array([['','PP','NP','SS','ACCURACY','PRECISION','RECALL','TNR'],\n",
    "                             ['Training Set',PP_train,NP_train,SS_train,ACC_train,PPV_train,TPR_train,TNR_train],\n",
    "                             ['Test Set',PP_test,NP_test,SS_test,ACC_test,PPV_test,TPR_test,TNR_test]])"
   ]
  },
  {
   "cell_type": "code",
   "execution_count": 45,
   "metadata": {
    "collapsed": true
   },
   "outputs": [],
   "source": [
    "performance_table = pd.DataFrame(data=performance_data[1:,1:],\n",
    "                      index=performance_data[1:,0],\n",
    "                      columns=performance_data[0,1:])"
   ]
  },
  {
   "cell_type": "code",
   "execution_count": 46,
   "metadata": {},
   "outputs": [
    {
     "data": {
      "text/html": [
       "<div>\n",
       "<style>\n",
       "    .dataframe thead tr:only-child th {\n",
       "        text-align: right;\n",
       "    }\n",
       "\n",
       "    .dataframe thead th {\n",
       "        text-align: left;\n",
       "    }\n",
       "\n",
       "    .dataframe tbody tr th {\n",
       "        vertical-align: top;\n",
       "    }\n",
       "</style>\n",
       "<table border=\"1\" class=\"dataframe\">\n",
       "  <thead>\n",
       "    <tr style=\"text-align: right;\">\n",
       "      <th></th>\n",
       "      <th>PP</th>\n",
       "      <th>NP</th>\n",
       "      <th>SS</th>\n",
       "      <th>ACCURACY</th>\n",
       "      <th>PRECISION</th>\n",
       "      <th>RECALL</th>\n",
       "      <th>TNR</th>\n",
       "    </tr>\n",
       "  </thead>\n",
       "  <tbody>\n",
       "    <tr>\n",
       "      <th>Training Set</th>\n",
       "      <td>0.498</td>\n",
       "      <td>0.502</td>\n",
       "      <td>8000</td>\n",
       "      <td>1.0</td>\n",
       "      <td>1.0</td>\n",
       "      <td>1.0</td>\n",
       "      <td>1.0</td>\n",
       "    </tr>\n",
       "    <tr>\n",
       "      <th>Test Set</th>\n",
       "      <td>0.506</td>\n",
       "      <td>0.494</td>\n",
       "      <td>2000</td>\n",
       "      <td>1.0</td>\n",
       "      <td>1.0</td>\n",
       "      <td>1.0</td>\n",
       "      <td>1.0</td>\n",
       "    </tr>\n",
       "  </tbody>\n",
       "</table>\n",
       "</div>"
      ],
      "text/plain": [
       "                 PP     NP    SS ACCURACY PRECISION RECALL  TNR\n",
       "Training Set  0.498  0.502  8000      1.0       1.0    1.0  1.0\n",
       "Test Set      0.506  0.494  2000      1.0       1.0    1.0  1.0"
      ]
     },
     "execution_count": 46,
     "metadata": {},
     "output_type": "execute_result"
    }
   ],
   "source": [
    "#PP: Proportion of positive labels\n",
    "#NP: Proportion of negative labels\n",
    "#SS: Total number of records\n",
    "#TNR: Total negative rate\n",
    "performance_table"
   ]
  },
  {
   "cell_type": "markdown",
   "metadata": {},
   "source": [
    "## 2. Predictor using that dataset with proxy features"
   ]
  },
  {
   "cell_type": "markdown",
   "metadata": {},
   "source": [
    "Lets get the best classifier and its performance using the function defined (do_classify) and the original dataset without proxy features."
   ]
  },
  {
   "cell_type": "code",
   "execution_count": 47,
   "metadata": {},
   "outputs": [
    {
     "name": "stderr",
     "output_type": "stream",
     "text": [
      "/anaconda3/lib/python3.6/site-packages/sklearn/model_selection/_split.py:2010: FutureWarning: From version 0.21, test_size will always complement train_size unless both are specified.\n",
      "  FutureWarning)\n"
     ]
    },
    {
     "name": "stdout",
     "output_type": "stream",
     "text": [
      "BEST PARAMS {'C': 0.01}\n",
      "Accuracy on training data: 0.92\n",
      "Accuracy on test data:     0.93\n"
     ]
    }
   ],
   "source": [
    "clf_l_o, Xtrain_l_o, ytrain_l_o, Xtest_l_o, ytest_l_o  = do_classify(LogisticRegression(), \n",
    "                                                           {\"C\": [0.01, 0.1, 1, 10, 100]}, \n",
    "                                                           dflog_orig, ['Weight', 'Height'], 'Gender','Female')"
   ]
  },
  {
   "cell_type": "markdown",
   "metadata": {},
   "source": [
    "The results show accuracy of 0.92 and 0.93 for the training and test dataset respectively."
   ]
  },
  {
   "cell_type": "code",
   "execution_count": 52,
   "metadata": {},
   "outputs": [
    {
     "name": "stdout",
     "output_type": "stream",
     "text": [
      "The coefficients for weight and height are -0.189 and 0.458 respectively.\n"
     ]
    }
   ],
   "source": [
    "print(\"The coefficients for weight and height are {:.3f} and {:.3f} respectively.\".format\n",
    "      (clf_l_o.coef_[0,0], clf_l_o.coef_[0,1]))"
   ]
  },
  {
   "cell_type": "markdown",
   "metadata": {},
   "source": [
    "Lets print out the size of the training/test set predictors and training/test set target features:"
   ]
  },
  {
   "cell_type": "code",
   "execution_count": 54,
   "metadata": {},
   "outputs": [
    {
     "name": "stdout",
     "output_type": "stream",
     "text": [
      "(8000, 2) (8000,) (2000, 2) (2000,)\n"
     ]
    }
   ],
   "source": [
    "print(Xtrain_l_o.shape, ytrain_l_o.shape, Xtest_l_o.shape, ytest_l_o.shape)"
   ]
  },
  {
   "cell_type": "code",
   "execution_count": 56,
   "metadata": {
    "collapsed": true
   },
   "outputs": [],
   "source": [
    "SS_train_o = Xtrain_l_o.shape[0] \n",
    "SS_test_o = Xtest_l_o.shape[0]\n",
    "PP_train_o = round(np.sum(ytrain_l_o)/SS_train_o,3)\n",
    "NP_train_o = round(np.sum(ytrain_l_o == 0)/SS_train_o,3)\n",
    "PP_test_o = round(np.sum(ytest_l_o)/SS_test_o,3)\n",
    "NP_test_o = round(np.sum(ytest_l_o == 0)/SS_test_o,3)"
   ]
  },
  {
   "cell_type": "code",
   "execution_count": 58,
   "metadata": {},
   "outputs": [
    {
     "name": "stdout",
     "output_type": "stream",
     "text": [
      "The number of records in the training data set and test data set are 8000 and 2000 respectively.\n",
      "The proportion of positive and negative labels in the training data set are 0.499 and 0.501 respectively.\n",
      "The proportion of positive and negative labels in the test data set are 0.505 and 0.494 respectively.\n"
     ]
    }
   ],
   "source": [
    "print(\"The number of records in the training data set and test data set are {} and {} respectively.\".format(\n",
    "    SS_train_o,SS_test_o))\n",
    "print(\"The proportion of positive and negative labels in the training data set are {} and {} respectively.\".format(\n",
    "    PP_train_o,NP_train_o))\n",
    "print(\"The proportion of positive and negative labels in the test data set are {} and {} respectively.\".format(\n",
    "    PP_test_o,NP_test_o))"
   ]
  },
  {
   "cell_type": "markdown",
   "metadata": {},
   "source": [
    "The following extracts the confusion matrix of the test dataset to compute the various performance metrics."
   ]
  },
  {
   "cell_type": "code",
   "execution_count": 60,
   "metadata": {},
   "outputs": [
    {
     "name": "stdout",
     "output_type": "stream",
     "text": [
      "[[931  58]\n",
      " [ 79 932]]\n"
     ]
    }
   ],
   "source": [
    "from sklearn.metrics import confusion_matrix\n",
    "cm_test_o = confusion_matrix(ytest_l_o,clf_l_o.predict(Xtest_l_o))\n",
    "print(cm_test_o)\n",
    "cm_test_o = pd.DataFrame(cm_test_o)"
   ]
  },
  {
   "cell_type": "code",
   "execution_count": 61,
   "metadata": {
    "collapsed": true
   },
   "outputs": [],
   "source": [
    "TN_test_o = cm_test_o[0][0];TP_test_o = cm_test_o[1][1];FP_test_o = cm_test_o[0][1]; FN_test_o = cm_test_o[1][0]"
   ]
  },
  {
   "cell_type": "code",
   "execution_count": 62,
   "metadata": {},
   "outputs": [
    {
     "name": "stdout",
     "output_type": "stream",
     "text": [
      "The number of true negative, true positive, false positive, and false negative in the test dataset are 931, 932, 79 and 58 respectively.\n"
     ]
    }
   ],
   "source": [
    "print(\"The number of true negative, true positive, false positive, and false negative in the test dataset are {}, {}, {} and {} respectively.\".format(\n",
    "    TN_test_o, TP_test_o, FP_test_o, FN_test_o))"
   ]
  },
  {
   "cell_type": "code",
   "execution_count": 72,
   "metadata": {
    "collapsed": true
   },
   "outputs": [],
   "source": [
    "TPR_test_o = round(TP_test_o/(TP_test_o+FN_test_o),3) #true positive rate (Recall)\n",
    "\n",
    "TNR_test_o = round(TN_test_o/(TN_test_o+FP_test_o),3) #true negative rate (Specifity)\n",
    "\n",
    "PPV_test_o = round(TP_test_o/(TP_test_o+FP_test_o),3) #positive predictive value (Precision)\n",
    "\n",
    "NPV_test_o = round(TN_test_o/(TN_test_o+FN_test_o),3) # Negative predictive value\n",
    "\n",
    "FPR_test_o = round(FP_test_o/(FP_test_o+TN_test_o),3) # Fall out or false positive rate\n",
    "\n",
    "FNR_test_o = round(FN_test_o/(TP_test_o+FN_test_o),3) # False negative rate\n",
    "\n",
    "FDR_test_o = round(FP_test_o/(TP_test_o+FP_test_o),3) # False discovery rate\n",
    "\n",
    "ACC_test_o = round((TP_test_o+TN_test_o)/(TP_test_o+FP_test_o+FN_test_o+TN_test_o),3) # Overall accuracy"
   ]
  },
  {
   "cell_type": "markdown",
   "metadata": {},
   "source": [
    "The following extracts the confusion matrix of the training dataset to compute the various performance metrics."
   ]
  },
  {
   "cell_type": "code",
   "execution_count": 64,
   "metadata": {},
   "outputs": [
    {
     "name": "stdout",
     "output_type": "stream",
     "text": [
      "[[3675  336]\n",
      " [ 334 3655]]\n"
     ]
    }
   ],
   "source": [
    "from sklearn.metrics import confusion_matrix\n",
    "cm_train_o = confusion_matrix(ytrain_l_o,clf_l_o.predict(Xtrain_l_o))\n",
    "print(cm_train_o)\n",
    "cm_train_o = pd.DataFrame(cm_train_o)"
   ]
  },
  {
   "cell_type": "code",
   "execution_count": 66,
   "metadata": {
    "collapsed": true
   },
   "outputs": [],
   "source": [
    "TN_train_o = cm_train_o[0][0];TP_train_o = cm_train_o[1][1];FP_train_o = cm_train_o[0][1]; FN_train_o = cm_train_o[1][0]"
   ]
  },
  {
   "cell_type": "code",
   "execution_count": 67,
   "metadata": {},
   "outputs": [
    {
     "name": "stdout",
     "output_type": "stream",
     "text": [
      "The number of true negative, true positive, false positive, and false negative in the training dataset are 3675, 3655, 334 and 336 respectively.\n"
     ]
    }
   ],
   "source": [
    "print(\"The number of true negative, true positive, false positive, and false negative in the training dataset are {}, {}, {} and {} respectively.\".format(\n",
    "    TN_train_o, TP_train_o, FP_train_o, FN_train_o))"
   ]
  },
  {
   "cell_type": "code",
   "execution_count": 70,
   "metadata": {
    "collapsed": true
   },
   "outputs": [],
   "source": [
    "TPR_train_o = round(TP_train_o/(TP_train_o+FN_train_o),3) #true positive rate (Recall)\n",
    "\n",
    "TNR_train_o = round(TN_train_o/(TN_train_o+FP_train_o),3) #true negative rate (Specifity)\n",
    "\n",
    "PPV_train_o = round(TP_train_o/(TP_train_o+FP_train_o),3) #positive predictive value (Precision)\n",
    "\n",
    "NPV_train_o = round(TN_train_o/(TN_train_o+FN_train_o),3) # Negative predictive value\n",
    "\n",
    "FPR_train_o = round(FP_train_o/(FP_train_o+TN_train_o),3) # Fall out or false positive rate\n",
    "\n",
    "FNR_train_o = round(FN_train_o/(TP_train_o+FN_train_o),3) # False negative rate\n",
    "\n",
    "FDR_train_o = round(FP_train_o/(TP_train_o+FP_train_o),3) # False discovery rate\n",
    "\n",
    "ACC_train_o = round((TP_train_o+TN_train_o)/(TP_train_o+FP_train_o+FN_train_o+TN_train_o),3) # Overall accuracy"
   ]
  },
  {
   "cell_type": "markdown",
   "metadata": {},
   "source": [
    "#### Performance Table"
   ]
  },
  {
   "cell_type": "code",
   "execution_count": 76,
   "metadata": {
    "collapsed": true
   },
   "outputs": [],
   "source": [
    "performance_data_o = np.array([['','PP','NP','SS','ACCURACY','PRECISION','RECALL','TNR'],\n",
    "                             ['Training Set',PP_train_o,NP_train_o,SS_train_o,ACC_train_o,PPV_train_o,TPR_train_o,TNR_train_o],\n",
    "                             ['Test Set',PP_test_o,NP_test_o,SS_test_o,ACC_test_o,PPV_test_o,TPR_test_o,TNR_test_o]])"
   ]
  },
  {
   "cell_type": "code",
   "execution_count": 77,
   "metadata": {
    "collapsed": true
   },
   "outputs": [],
   "source": [
    "performance_table_o = pd.DataFrame(data=performance_data_o[1:,1:],\n",
    "                      index=performance_data_o[1:,0],\n",
    "                      columns=performance_data_o[0,1:])"
   ]
  },
  {
   "cell_type": "code",
   "execution_count": 78,
   "metadata": {},
   "outputs": [
    {
     "data": {
      "text/html": [
       "<div>\n",
       "<style>\n",
       "    .dataframe thead tr:only-child th {\n",
       "        text-align: right;\n",
       "    }\n",
       "\n",
       "    .dataframe thead th {\n",
       "        text-align: left;\n",
       "    }\n",
       "\n",
       "    .dataframe tbody tr th {\n",
       "        vertical-align: top;\n",
       "    }\n",
       "</style>\n",
       "<table border=\"1\" class=\"dataframe\">\n",
       "  <thead>\n",
       "    <tr style=\"text-align: right;\">\n",
       "      <th></th>\n",
       "      <th>PP</th>\n",
       "      <th>NP</th>\n",
       "      <th>SS</th>\n",
       "      <th>ACCURACY</th>\n",
       "      <th>PRECISION</th>\n",
       "      <th>RECALL</th>\n",
       "      <th>TNR</th>\n",
       "    </tr>\n",
       "  </thead>\n",
       "  <tbody>\n",
       "    <tr>\n",
       "      <th>Training Set</th>\n",
       "      <td>0.499</td>\n",
       "      <td>0.501</td>\n",
       "      <td>8000</td>\n",
       "      <td>0.916</td>\n",
       "      <td>0.916</td>\n",
       "      <td>0.916</td>\n",
       "      <td>0.917</td>\n",
       "    </tr>\n",
       "    <tr>\n",
       "      <th>Test Set</th>\n",
       "      <td>0.505</td>\n",
       "      <td>0.494</td>\n",
       "      <td>2000</td>\n",
       "      <td>0.932</td>\n",
       "      <td>0.922</td>\n",
       "      <td>0.941</td>\n",
       "      <td>0.922</td>\n",
       "    </tr>\n",
       "  </tbody>\n",
       "</table>\n",
       "</div>"
      ],
      "text/plain": [
       "                 PP     NP    SS ACCURACY PRECISION RECALL    TNR\n",
       "Training Set  0.499  0.501  8000    0.916     0.916  0.916  0.917\n",
       "Test Set      0.505  0.494  2000    0.932     0.922  0.941  0.922"
      ]
     },
     "execution_count": 78,
     "metadata": {},
     "output_type": "execute_result"
    }
   ],
   "source": [
    "#PP: Proportion of positive labels\n",
    "#NP: Proportion of negative labels\n",
    "#SS: Total number of records\n",
    "#TNR: Total negative rate\n",
    "performance_table_o"
   ]
  }
 ],
 "metadata": {
  "anaconda-cloud": {},
  "kernelspec": {
   "display_name": "Python 3",
   "language": "python",
   "name": "python3"
  },
  "language_info": {
   "codemirror_mode": {
    "name": "ipython",
    "version": 3
   },
   "file_extension": ".py",
   "mimetype": "text/x-python",
   "name": "python",
   "nbconvert_exporter": "python",
   "pygments_lexer": "ipython3",
   "version": "3.6.2"
  }
 },
 "nbformat": 4,
 "nbformat_minor": 1
}
