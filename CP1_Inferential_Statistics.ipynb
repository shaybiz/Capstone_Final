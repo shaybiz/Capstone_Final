{
 "cells": [
  {
   "cell_type": "markdown",
   "metadata": {},
   "source": [
    "# Inferential Statistics\n"
   ]
  },
  {
   "cell_type": "markdown",
   "metadata": {},
   "source": [
    "The data used here is the cleaned up version of the 2008 infant natality/mortality dataset. The cleaning steps are discussed in the data wrangling notebook and word document. This notebook shows the application of inferential statiscis for capstone project 1."
   ]
  },
  {
   "cell_type": "code",
   "execution_count": 1,
   "metadata": {
    "collapsed": true
   },
   "outputs": [],
   "source": [
    "import numpy as np\n",
    "import pandas as pd\n",
    "from scipy import stats\n",
    "import os.path\n",
    "import matplotlib\n",
    "import matplotlib.pyplot as plt\n",
    "import matplotlib.patches as patches\n",
    "%matplotlib inline"
   ]
  },
  {
   "cell_type": "code",
   "execution_count": 2,
   "metadata": {
    "collapsed": true
   },
   "outputs": [],
   "source": [
    "#Load the cleaned up dataset.\n",
    "final_2008 = pd.read_pickle('CleanData_ML_UC')"
   ]
  },
  {
   "cell_type": "code",
   "execution_count": 3,
   "metadata": {
    "collapsed": true
   },
   "outputs": [],
   "source": [
    "#Remove any spaces in the column names for easy manipulation.\n",
    "final_2008.rename(columns=lambda x: x.strip(),inplace = True)"
   ]
  },
  {
   "cell_type": "markdown",
   "metadata": {},
   "source": [
    "**Inferential Statistics regarding admission to NICU and infant mortality**"
   ]
  },
  {
   "cell_type": "markdown",
   "metadata": {},
   "source": [
    "The plots below show the proportion of infants admitted to NICU in the mortality dataset (left) and in the non-mortality dataset (right). In this notebook, I will attempt to see if there is a statistically significant difference in infant mortality depending on whether an infant had been admitted to NICU or not."
   ]
  },
  {
   "cell_type": "code",
   "execution_count": 4,
   "metadata": {},
   "outputs": [
    {
     "data": {
      "image/png": "[encoded data removed]",
      "text/plain": [
       "<matplotlib.figure.Figure at 0x150da3390>"
      ]
     },
     "metadata": {},
     "output_type": "display_data"
    }
   ],
   "source": [
    "AB_NICU=final_2008[['AB_NICU','FLGND']]\n",
    "f, (ax1, ax2) = plt.subplots(1, 2, sharey=False)\n",
    "AB_NICU[AB_NICU.FLGND == '1'][['FLGND','AB_NICU']].groupby(['AB_NICU','FLGND']).size().unstack().unstack().unstack().plot(kind='bar', ax=ax1,figsize=(14,4),stacked=True,title=\"Admission to NICU (Infant Mortality)\")\n",
    "AB_NICU[AB_NICU.FLGND == '0'][['FLGND','AB_NICU']].groupby(['AB_NICU','FLGND']).size().unstack().unstack().unstack().plot(kind='bar', ax=ax2,figsize=(14,4),stacked=True,title=\"Admission to NICU (Infant Non-mortality)\")\n",
    "ax1.set_ylabel('Number of Infants')\n",
    "ax2.set_ylabel('Number of Infants')\n",
    "ax1.legend(fontsize=12)\n",
    "ax2.legend(fontsize=12)\n",
    "plt.tight_layout()"
   ]
  },
  {
   "cell_type": "markdown",
   "metadata": {},
   "source": [
    "**Null and Alternate Hypothesis**"
   ]
  },
  {
   "cell_type": "markdown",
   "metadata": {},
   "source": [
    "**Ho:** There is no difference in infant mortality between infants admitted to NICU and those who were not admitted <br/>\n",
    "**Ha:** There is a difference in infant mortality between infants admitted to NICU and those who were not admitted "
   ]
  },
  {
   "cell_type": "code",
   "execution_count": 5,
   "metadata": {
    "collapsed": true
   },
   "outputs": [],
   "source": [
    "NICUtot = final_2008[final_2008['AB_NICU'] == '1'].shape[0]\n",
    "NICUlive=final_2008[(final_2008['AB_NICU'] == '1') & (final_2008['FLGND'] == '0')].shape[0]\n",
    "NICUdead=final_2008[(final_2008['AB_NICU'] == '1') & (final_2008['FLGND'] == '1')].shape[0]"
   ]
  },
  {
   "cell_type": "code",
   "execution_count": 6,
   "metadata": {},
   "outputs": [
    {
     "name": "stdout",
     "output_type": "stream",
     "text": [
      "97529 94787 2742\n"
     ]
    }
   ],
   "source": [
    "print(NICUtot, NICUlive, NICUdead)"
   ]
  },
  {
   "cell_type": "code",
   "execution_count": 7,
   "metadata": {
    "collapsed": true
   },
   "outputs": [],
   "source": [
    "NoNICUtot = final_2008[final_2008['AB_NICU'] == '0'].shape[0]\n",
    "NoNICUlive=final_2008[(final_2008['AB_NICU'] == '0') & (final_2008['FLGND'] == '0')].shape[0]\n",
    "NoNICUdead=final_2008[(final_2008['AB_NICU'] == '0') & (final_2008['FLGND'] == '1')].shape[0]"
   ]
  },
  {
   "cell_type": "code",
   "execution_count": 8,
   "metadata": {},
   "outputs": [
    {
     "name": "stdout",
     "output_type": "stream",
     "text": [
      "1472233 1468144 4089\n"
     ]
    }
   ],
   "source": [
    "print(NoNICUtot, NoNICUlive, NoNICUdead)"
   ]
  },
  {
   "cell_type": "code",
   "execution_count": 9,
   "metadata": {},
   "outputs": [
    {
     "name": "stdout",
     "output_type": "stream",
     "text": [
      "6831\n"
     ]
    }
   ],
   "source": [
    "INFANTdeadtot = final_2008[final_2008['FLGND'] == '1'].shape[0]\n",
    "INFANTlivetot = final_2008[final_2008['FLGND'] == '1'].shape[0]\n",
    "print(INFANTdeadtot)"
   ]
  },
  {
   "cell_type": "code",
   "execution_count": 10,
   "metadata": {},
   "outputs": [
    {
     "name": "stdout",
     "output_type": "stream",
     "text": [
      "The total number of infants admitted to NICU is 97529\n",
      "The total number of infants admitted to NICU who lived at the time of report is 94787\n",
      "The total number of infants admitted to NICU who died is 2742\n",
      "The total number of infants who were not admitted to NICU is 1472233\n",
      "The total number of infants who were not admitted to NICU and who lived at the time of report is 1468144\n",
      "The total number of infants who were not admitted to NICU and who died is 4089\n"
     ]
    }
   ],
   "source": [
    "print(\"The total number of infants admitted to NICU is {}\".format(NICUtot))\n",
    "print(\"The total number of infants admitted to NICU who lived at the time of report is {}\".format(NICUlive))\n",
    "print(\"The total number of infants admitted to NICU who died is {:3.0f}\".format(NICUdead))\n",
    "print(\"The total number of infants who were not admitted to NICU is {}\".format(NoNICUtot))\n",
    "print(\"The total number of infants who were not admitted to NICU and who lived at the time of report is {}\".format(NoNICUlive))\n",
    "print(\"The total number of infants who were not admitted to NICU and who died is {:3.0f}\".format(NoNICUdead))"
   ]
  },
  {
   "cell_type": "code",
   "execution_count": 35,
   "metadata": {
    "collapsed": true
   },
   "outputs": [],
   "source": [
    "NICUdead_mean = (1 * NICUdead + 0 * NICUlive)/NICUtot\n",
    "NICUdead_var = (NICUdead_mean * (1 - NICUdead_mean))/NICUtot\n",
    "NoNICUdead_mean = (1 * NoNICUdead + 0 * NoNICUlive)/NoNICUtot\n",
    "NoNICUdead_var = (NoNICUdead_mean * (1 - NoNICUdead_mean))/NoNICUtot"
   ]
  },
  {
   "cell_type": "code",
   "execution_count": 36,
   "metadata": {},
   "outputs": [
    {
     "name": "stdout",
     "output_type": "stream",
     "text": [
      "The mean of mortality for infants admitted to NICU is 0.0281\n",
      "The mean of mortality for infants not admitted to NICU is 0.0028\n",
      "The variance of mortality for infants admitted to NICU is 0.000000280\n",
      "The variance of mortality for infants not admitted to NICU is 0.000000002\n"
     ]
    }
   ],
   "source": [
    "print(\"The mean of mortality for infants admitted to NICU is {:0.4f}\".format(NICUdead_mean))\n",
    "print(\"The mean of mortality for infants not admitted to NICU is {:0.4f}\".format(NoNICUdead_mean))\n",
    "print(\"The variance of mortality for infants admitted to NICU is {:0.9f}\".format(NICUdead_var))\n",
    "print(\"The variance of mortality for infants not admitted to NICU is {:0.9f}\".format(NoNICUdead_var))"
   ]
  },
  {
   "cell_type": "code",
   "execution_count": 38,
   "metadata": {},
   "outputs": [
    {
     "name": "stdout",
     "output_type": "stream",
     "text": [
      "1562931 6831 0.004351615085598963\n"
     ]
    }
   ],
   "source": [
    "LIVEtotal = NoNICUlive + NICUlive\n",
    "DEADtotal = NoNICUdead + NICUdead\n",
    "DEADmean = DEADtotal/(DEADtotal + LIVEtotal)\n",
    "print(LIVEtotal, DEADtotal, DEADmean)"
   ]
  },
  {
   "cell_type": "code",
   "execution_count": 39,
   "metadata": {},
   "outputs": [
    {
     "name": "stdout",
     "output_type": "stream",
     "text": [
      "0.000531080934961\n"
     ]
    }
   ],
   "source": [
    "DEADtotal_var = NICUdead_var + NoNICUdead_var\n",
    "DEADtotal_std = np.sqrt(DEADtotal_var)\n",
    "print(DEADtotal_std)"
   ]
  },
  {
   "cell_type": "code",
   "execution_count": 42,
   "metadata": {
    "collapsed": true
   },
   "outputs": [],
   "source": [
    "DEADdiff = NICUdead_mean - NoNICUdead_mean\n",
    "z_score = (DEADdiff - 0)/DEADtotal_std\n",
    "CIu = 1.96 * DEADtotal_std\n",
    "pval = stats.norm.sf(np.abs(z_score))*2"
   ]
  },
  {
   "cell_type": "code",
   "execution_count": 46,
   "metadata": {},
   "outputs": [
    {
     "name": "stdout",
     "output_type": "stream",
     "text": [
      "The mean infant mortality whether admitted to NICU or not is 0.0044\n",
      "The standard deviation infant mortality whether admitted to NICU or not is 0.0005\n",
      "The difference in mean of mortality between infants admitted and not admitted to NICU is 0.0253\n",
      "The z score associated with the calculated mean given the null hypothesis is 47.7089\n",
      "The upper bound for 95% confidence is 0.0264\n",
      "The lower bound for 95% confidence is 0.0243\n",
      "The p-value associated with the calculated z score given the null hypothesis is 0.000000\n"
     ]
    }
   ],
   "source": [
    "print(\"The mean infant mortality whether admitted to NICU or not is {:0.4f}\".format(DEADmean))\n",
    "print(\"The standard deviation infant mortality whether admitted to NICU or not is {:0.4f}\".format(DEADtotal_std))\n",
    "print(\"The difference in mean of mortality between infants admitted and not admitted to NICU is {:0.4f}\".format(DEADdiff))\n",
    "print(\"The z score associated with the calculated mean given the null hypothesis is {:0.4f}\".format(z_score))\n",
    "print(\"The upper bound for 95% confidence is {:0.4f}\".format(DEADdiff + CIu))\n",
    "print(\"The lower bound for 95% confidence is {:0.4f}\".format(DEADdiff - CIu))\n",
    "print(\"The p-value associated with the calculated z score given the null hypothesis is {:0.6f}\".format(pval))"
   ]
  },
  {
   "cell_type": "markdown",
   "metadata": {},
   "source": [
    "**The results show that there is a statistically significant difference between difference in infant mortality between infants admitted to NICU and those who were not admitted. There is a 95% chance that the difference in infant mortality between infants admitted to NICU and those who were not admitted lies in the interval [0.0243,0.0264].**"
   ]
  }
 ],
 "metadata": {
  "anaconda-cloud": {},
  "celltoolbar": "Raw Cell Format",
  "kernelspec": {
   "display_name": "Python 3",
   "language": "python",
   "name": "python3"
  },
  "language_info": {
   "codemirror_mode": {
    "name": "ipython",
    "version": 3
   },
   "file_extension": ".py",
   "mimetype": "text/x-python",
   "name": "python",
   "nbconvert_exporter": "python",
   "pygments_lexer": "ipython3",
   "version": "3.6.2"
  }
 },
 "nbformat": 4,
 "nbformat_minor": 1
}
